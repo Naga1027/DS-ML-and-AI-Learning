{
 "cells": [
  {
   "cell_type": "markdown",
   "metadata": {},
   "source": [
    "### GENETIC ALGORITHM IMPLEMENTATION FOR SOLVING 8 QUEENS."
   ]
  },
  {
   "cell_type": "code",
   "execution_count": 19,
   "metadata": {},
   "outputs": [],
   "source": [
    "# Import the Basic Libraries\n",
    "import pandas as pd\n",
    "import numpy as np\n",
    "\n",
    "import random as random"
   ]
  },
  {
   "cell_type": "code",
   "execution_count": 20,
   "metadata": {},
   "outputs": [],
   "source": [
    "# Soln Class.. Fitness of each Queen's position will be calculated and Scored, when a new Instance is created.\n",
    "class Soln:\n",
    "    def __init__(self, Solution):\n",
    "        self.Solution = Solution\n",
    "        self.FitFlags = self.FitnessCalc() \n",
    "        self.Score  = np.sum(self.FitFlags)\n",
    "        \n",
    "    def FitnessCalc(self):\n",
    "            Row = [0, 1, 2, 3, 4, 5, 6, 7]\n",
    "            FitFlags = [0, 0, 0, 0, 0, 0, 0, 0]\n",
    "            \n",
    "            for R in range(N):\n",
    "                PositionFitScore = 0\n",
    "                for C in range(N):\n",
    "                    if ((Row[R] != Row[C]) & (self.Solution[R] != self.Solution[C]) & (abs(Row[R] - Row[C]) != abs(self.Solution[R] - self.Solution[C]))):\n",
    "                        PositionFitScore += 1\n",
    "                if PositionFitScore == 7:\n",
    "                    FitFlags[R] = 1\n",
    "            \n",
    "            return FitFlags"
   ]
  },
  {
   "cell_type": "code",
   "execution_count": 21,
   "metadata": {},
   "outputs": [],
   "source": [
    "# Function to populate Initial Solution Sets\n",
    "def SolnSample():\n",
    "    Sample_Soln = []\n",
    "    i = 0\n",
    "    while i < N:\n",
    "        r=random.randint(0,7)\n",
    "        if r not in Sample_Soln:\n",
    "            Sample_Soln.append(r)\n",
    "            i += 1\n",
    "    return Sample_Soln"
   ]
  },
  {
   "cell_type": "code",
   "execution_count": 22,
   "metadata": {},
   "outputs": [],
   "source": [
    "# Populate Sample Solutions\n",
    "def Populate():\n",
    "    Population = []\n",
    "    for i in range(PopulationCount):\n",
    "        Sample = SolnSample()\n",
    "        Population.append(Soln(Sample))\n",
    "    \n",
    "    # Sort the Solution Population on Descending order of Fitness Score\n",
    "    Population.sort(key=lambda x: x.Score, reverse=True)\n",
    "    return Population"
   ]
  },
  {
   "cell_type": "code",
   "execution_count": 23,
   "metadata": {},
   "outputs": [],
   "source": [
    "# Removal of Duplicates introduced by Crossover, if any\n",
    "def RemoveDups(Child_Arr):\n",
    "    \n",
    "    # Find the Unique values and no. of occurances of each Unique value\n",
    "    Uniques,Counts = np.unique(Child_Arr,return_counts=1)\n",
    "    \n",
    "    # If Unique values Equal N, there are No Duplicates\n",
    "    if (len(Uniques) != N):\n",
    "        # Mask the positions of Duplicates\n",
    "        Masked = np.isin(Child_Arr,Uniques[Counts>1])\n",
    "        # Identify the Missing values in Child\n",
    "        Missing_Values = np.setdiff1d(np.arange(len(Child_Arr)),Child_Arr[~Masked])\n",
    "        # Shuffle the Missing values and insert them in Masked positions\n",
    "        np.random.shuffle(Missing_Values)\n",
    "        j = 0\n",
    "        for i in range(N):\n",
    "            if (Masked[i] == True):\n",
    "                Child_Arr[i] = Missing_Values[j]\n",
    "                j +=1\n",
    "    \n",
    "    return Child_Arr"
   ]
  },
  {
   "cell_type": "code",
   "execution_count": 24,
   "metadata": {},
   "outputs": [],
   "source": [
    "# Crossover Function - Simple 1-Point Crossover, with Removal of Duplicates introduced, if any \n",
    "def Crossover(Parent1, Parent2):\n",
    "    \n",
    "    Child_Arr=np.array([0, 0, 0, 0, 0, 0, 0, 0])\n",
    "    \n",
    "    # Randomly Identify the Corssover point\n",
    "    CrossOverPoint = random.randint(2,5)\n",
    "    \n",
    "    # 1-Point Crossover\n",
    "    for i in range(N):\n",
    "        if i <= CrossOverPoint: \n",
    "            Child_Arr[i] = Parent1[i]\n",
    "        else:\n",
    "            Child_Arr[i] = Parent2[i]\n",
    "            \n",
    "    # Clean up the Duplicates, if any, introduced by Crossover\n",
    "    Child_Arr = RemoveDups(Child_Arr)\n",
    "    Child = Child_Arr.tolist()\n",
    "    \n",
    "    return Child"
   ]
  },
  {
   "cell_type": "code",
   "execution_count": 25,
   "metadata": {},
   "outputs": [],
   "source": [
    "# Mutation Function - Swap the positions of Queen\n",
    "def Mutate(Soln, Loop):\n",
    "    \n",
    "    # With Increase in Iterations, Increase the N. of Bits to be Mutated\n",
    "    Reps = int((Loop+100)/100)\n",
    "    \n",
    "    # Limiting the Mutation to max 6 Swaps\n",
    "    if Reps > 6:\n",
    "        Reps = 6\n",
    "    \n",
    "    for i in range(Reps):\n",
    "        # Randomly identify the Position to be Mutated\n",
    "        MutationPoint = random.randint(1,7)\n",
    "        \n",
    "        # And Swap the positions\n",
    "        Temp = Soln[MutationPoint]\n",
    "        Soln[MutationPoint] = Soln[MutationPoint-1]\n",
    "        Soln[MutationPoint-1] = Temp\n",
    "    \n",
    "    return Soln"
   ]
  },
  {
   "cell_type": "code",
   "execution_count": 26,
   "metadata": {},
   "outputs": [],
   "source": [
    "# Selection, Crossover and Mutation Loop\n",
    "def Iterate(PopulationData):\n",
    "    Final_Solution = []\n",
    "    Iterations = 0\n",
    "    for loop in range(MaxGenerations):\n",
    "    \n",
    "        if (PopulationData[0].Score == 8):\n",
    "            Final_Solution = PopulationData[0].Solution\n",
    "            Iterations = loop\n",
    "            break\n",
    "        if (PopulationData[1].Score == 8):\n",
    "            Final_Solution = PopulationData[0].Solution\n",
    "            Iterations = loop\n",
    "            break\n",
    "    \n",
    "        #print('********************************** Generation ',loop, \" *****************************************\")\n",
    "    \n",
    "        # Select TWO Fittest Solutions from the Population\n",
    "        Selection1 = PopulationData[0].Solution\n",
    "        Selection2 = PopulationData[1].Solution\n",
    "        #print(\"S ->\", PopulationData[0].Solution, \" \", PopulationData[0].FitFlags, \" || \", PopulationData[1].Solution, \" \", PopulationData[1].FitFlags)\n",
    "    \n",
    "        # Call Cross Over Function for creating Children\n",
    "        Child1 = Soln(Crossover(Selection1, Selection2))\n",
    "        Child2 = Soln(Crossover(Selection2, Selection1))\n",
    "        #print(\"C ->\", Child1.Solution, \" \", Child1.FitFlags, \" || \", Child2.Solution, \" \", Child2.FitFlags)\n",
    "\n",
    "        # Call Mutation Function For Children\n",
    "        MutChild1 = Soln(Mutate(Child1.Solution, loop))\n",
    "        MutChild2 = Soln(Mutate(Child2.Solution, loop))\n",
    "        #print(\"M ->\", MutChild1.Solution, \" \", MutChild1.FitFlags, \" || \", MutChild2.Solution, \" \", MutChild2.FitFlags)\n",
    "        \n",
    "        # Append the Mutated Children to existing Population\n",
    "        PopulationData.append(MutChild1)\n",
    "        PopulationData.append(MutChild2)\n",
    "        PopulationData.sort(key=lambda x: x.Score, reverse=True)\n",
    "        PopulationCount = len(PopulationData)\n",
    "\n",
    "    return Final_Solution, loop"
   ]
  },
  {
   "cell_type": "code",
   "execution_count": 27,
   "metadata": {},
   "outputs": [
    {
     "name": "stdout",
     "output_type": "stream",
     "text": [
      "Trial # :  1  No. of Generations :  19  Solution ->  [4, 0, 7, 3, 1, 6, 2, 5]\n"
     ]
    }
   ],
   "source": [
    "# Main Section - Set the Count for Initial Population\n",
    "\n",
    "N = 8\n",
    "PopulationCount = 50\n",
    "MaxGenerations = 1000\n",
    "\n",
    "# Limited the Max Generations to 1000. \n",
    "# On rare ocasions, if Generation count reaches this limit in Trail 1, reset the population and start a fresh Trail:\n",
    "\n",
    "Trial = 1\n",
    "while True:\n",
    "    PopulationData = Populate()\n",
    "    Output, Gen_Count = Iterate(PopulationData)\n",
    "    if Gen_Count != 999:\n",
    "        print(\"Trial # : \", Trial, \" No. of Generations : \", Gen_Count, \" Solution -> \", Output)\n",
    "        break\n",
    "    Trial += 1"
   ]
  },
  {
   "cell_type": "code",
   "execution_count": null,
   "metadata": {},
   "outputs": [],
   "source": []
  }
 ],
 "metadata": {
  "kernelspec": {
   "display_name": "Python 3",
   "language": "python",
   "name": "python3"
  },
  "language_info": {
   "codemirror_mode": {
    "name": "ipython",
    "version": 3
   },
   "file_extension": ".py",
   "mimetype": "text/x-python",
   "name": "python",
   "nbconvert_exporter": "python",
   "pygments_lexer": "ipython3",
   "version": "3.7.1"
  }
 },
 "nbformat": 4,
 "nbformat_minor": 2
}
